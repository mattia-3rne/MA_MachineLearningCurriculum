{
 "cells": [
  {
   "metadata": {},
   "cell_type": "markdown",
   "source": "# k-Means Clustering",
   "id": "2ed2a304ecf63ca8"
  },
  {
   "metadata": {},
   "cell_type": "markdown",
   "source": "### Import Libraries",
   "id": "cd160a7ea9d6053d"
  },
  {
   "metadata": {},
   "cell_type": "code",
   "source": [
    "import numpy as np\n",
    "import matplotlib.pyplot as plt\n",
    "from sklearn.cluster import KMeans"
   ],
   "id": "1f6852545bf960ac",
   "outputs": [],
   "execution_count": null
  },
  {
   "metadata": {},
   "cell_type": "markdown",
   "source": "### Sample Data",
   "id": "6b253eda0ba94a4c"
  },
  {
   "metadata": {},
   "cell_type": "code",
   "source": [
    "# Sample data: Each homework is represented as [difficulty, amount_of_work]\n",
    "# Difficulty (1-10), Amount of work (pages, exercises, or hours)\n",
    "homework_data = np.array([\n",
    "    [3, 3], [2, 2], [1, 4], [1, 1], # Low effort\n",
    "    [5, 6], [6, 5], [7, 7],  # Medium effort\n",
    "    [9, 12], [10, 10]  # High effort\n",
    "])"
   ],
   "id": "db3a75fc02c5ccec",
   "outputs": [],
   "execution_count": null
  },
  {
   "metadata": {},
   "cell_type": "markdown",
   "source": "### K-means Clustering",
   "id": "fbb2e327526b4705"
  },
  {
   "metadata": {},
   "cell_type": "code",
   "source": [
    "# K-means clustering into 3 clusters\n",
    "kmeans = KMeans(n_clusters=3, random_state=42)\n",
    "kmeans.fit(homework_data)\n",
    "\n",
    "# Cluster centers and labels\n",
    "centers = kmeans.cluster_centers_\n",
    "labels = kmeans.labels_"
   ],
   "id": "cf2334c03b339792",
   "outputs": [],
   "execution_count": null
  },
  {
   "metadata": {},
   "cell_type": "markdown",
   "source": "### Sorting Clusters",
   "id": "3b593eb49ceb7146"
  },
  {
   "metadata": {},
   "cell_type": "code",
   "source": [
    "# Sort clusters based on the centers' positions (ascending effort)\n",
    "# We sort by the sum of x (difficulty) and y (amount of work) for each cluster center\n",
    "sorted_indices = np.argsort(centers[:, 0] + centers[:, 1])\n",
    "sorted_labels = {sorted_indices[i]: i for i in range(3)}  # Map KMeans labels to sorted effort levels\n",
    "\n",
    "# Updated labels based on sorting\n",
    "corrected_labels = np.array([sorted_labels[label] for label in labels])"
   ],
   "id": "e72e370d546d5e7d",
   "outputs": [],
   "execution_count": null
  },
  {
   "metadata": {},
   "cell_type": "markdown",
   "source": "### Plotting Results",
   "id": "8d8cd458cff870b1"
  },
  {
   "metadata": {},
   "cell_type": "code",
   "source": [
    "# Plot the results\n",
    "plt.figure(figsize=(8, 6))\n",
    "effort_categories = [\"Low Effort\", \"Medium Effort\", \"High Effort\"]\n",
    "colors = ['green', 'orange', 'red']  # Custom colors for clarity\n",
    "\n",
    "for i in range(3):  # Loop over the corrected cluster labels\n",
    "    plt.scatter(\n",
    "        homework_data[corrected_labels == i, 0],  # Difficulty\n",
    "        homework_data[corrected_labels == i, 1],  # Amount of work\n",
    "        label=effort_categories[i],\n",
    "        color=colors[i]\n",
    "    )\n",
    "\n",
    "    # Draw a circle around each cluster center\n",
    "    center_x, center_y = centers[sorted_indices[i]]\n",
    "    circle = plt.Circle((center_x, center_y), 2, color='gray', fill=False, linestyle='--', linewidth=2)\n",
    "    plt.gca().add_patch(circle)\n",
    "\n",
    "# Add labels and legend\n",
    "plt.xlabel(\"Difficulty (1-10)\")\n",
    "plt.ylabel(\"Amount of Work (Pages)\")\n",
    "plt.title(\"K-means Clustering of Homework Effort\")\n",
    "plt.legend()\n",
    "plt.grid()\n",
    "plt.show()"
   ],
   "id": "2a45b2f6430831d9",
   "outputs": [],
   "execution_count": null
  }
 ],
 "metadata": {
  "kernelspec": {
   "display_name": "Python 3",
   "language": "python",
   "name": "python3"
  },
  "language_info": {
   "codemirror_mode": {
    "name": "ipython",
    "version": 2
   },
   "file_extension": ".py",
   "mimetype": "text/x-python",
   "name": "python",
   "nbconvert_exporter": "python",
   "pygments_lexer": "ipython2",
   "version": "2.7.6"
  }
 },
 "nbformat": 4,
 "nbformat_minor": 5
}
