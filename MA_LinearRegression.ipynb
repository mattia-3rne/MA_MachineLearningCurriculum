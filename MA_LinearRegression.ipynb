{
 "cells": [
  {
   "metadata": {},
   "cell_type": "markdown",
   "source": "# Linear Regression",
   "id": "49956de688a62936"
  },
  {
   "metadata": {},
   "cell_type": "markdown",
   "source": "### Import Libraries",
   "id": "1f3838509c352244"
  },
  {
   "metadata": {},
   "cell_type": "code",
   "source": [
    "# Import necessary libraries\n",
    "import matplotlib\n",
    "matplotlib.use('TkAgg')  # Switch to TkAgg backend\n",
    "import matplotlib.pyplot as plt\n",
    "import pandas as pd\n",
    "import seaborn as sns\n",
    "from sklearn.linear_model import LinearRegression\n",
    "from sklearn.metrics import mean_squared_error, r2_score\n",
    "\n",
    "# Set Seaborn style and color palette\n",
    "sns.set(style=\"whitegrid\", palette=\"coolwarm\")"
   ],
   "id": "50c7dc1783f59db4",
   "outputs": [],
   "execution_count": null
  },
  {
   "metadata": {},
   "cell_type": "markdown",
   "source": "### 1. Prepare Data",
   "id": "32467038df687563"
  },
  {
   "metadata": {},
   "cell_type": "code",
   "source": [
    "def prepare_data():\n",
    "    \"\"\"\n",
    "    Prepare a sample dataset for linear regression analysis.\n",
    "    \"\"\"\n",
    "    data = {\n",
    "        'Student': ['Jeremy', 'Noah', 'Alyssa', 'Daniel', 'Sofia', 'Colin', 'Gracie', 'Anne', 'Jamal', 'Trisha'],\n",
    "        'Caffeine Intake (mg)': [0, 100, 150, 40, 250, 120, 300, 175, 210, 80],\n",
    "        'Participation': [0.5, 1.5, 2.5, 1.0, 4.0, 2.0, 4.5, 2.5, 3.0, 1.5]\n",
    "    }\n",
    "\n",
    "    # Create a DataFrame\n",
    "    return pd.DataFrame(data)"
   ],
   "id": "b886021b2c4f6449",
   "outputs": [],
   "execution_count": null
  },
  {
   "metadata": {},
   "cell_type": "markdown",
   "source": "### 2. Train Linear Regression Model",
   "id": "cc4a299cac33920c"
  },
  {
   "metadata": {},
   "cell_type": "code",
   "source": [
    "def train_model(X, y):\n",
    "    \"\"\"\n",
    "    Train a linear regression model.\n",
    "    \"\"\"\n",
    "    model = LinearRegression()\n",
    "    model.fit(X, y)\n",
    "    return model"
   ],
   "id": "5c8b0e4e17e80917",
   "outputs": [],
   "execution_count": null
  },
  {
   "metadata": {},
   "cell_type": "markdown",
   "source": "### 3. Visualize Regression Line",
   "id": "beec98e89badbe20"
  },
  {
   "metadata": {},
   "cell_type": "code",
   "source": [
    "def plot_regression_line(X, y, model):\n",
    "    \"\"\"\n",
    "    Plot the data points and the regression line.\n",
    "    \"\"\"\n",
    "    plt.figure(figsize=(10, 6))\n",
    "    sns.scatterplot(x=X['Caffeine Intake (mg)'], y=y, color='blue', label='Data Points')\n",
    "    plt.plot(X, model.predict(X), color='green', label='Regression Line')\n",
    "    plt.xlabel('Caffeine Intake (mg)')\n",
    "    plt.ylabel('Participation per lesson')\n",
    "    plt.title('Linear Regression: Caffeine Intake vs. Participation')\n",
    "    plt.legend()\n",
    "    plt.xlim(0, X['Caffeine Intake (mg)'].max() + 50)\n",
    "    plt.ylim(0, y.max() + 1)\n",
    "    plt.show()  # Ensures the graph is displayed"
   ],
   "id": "6347e10d9f6af35f",
   "outputs": [],
   "execution_count": null
  },
  {
   "metadata": {},
   "cell_type": "markdown",
   "source": "### 4. Display Model Metrics",
   "id": "af5b0f4f865cd22b"
  },
  {
   "metadata": {},
   "cell_type": "code",
   "source": [
    "def display_model_metrics(X, y, model):\n",
    "    \"\"\"\n",
    "    Display the equation, MSE, and R² score for the linear regression model.\n",
    "    \"\"\"\n",
    "    predictions = model.predict(X)\n",
    "    mse = mean_squared_error(y, predictions)\n",
    "    r2 = r2_score(y, predictions)\n",
    "    coef = model.coef_[0]\n",
    "    intercept = model.intercept_\n",
    "\n",
    "    print(\"\\nLinear Regression Model:\")\n",
    "    print(f\"Equation: Participation = {coef:.2f} * Caffeine Intake (mg) + {intercept:.2f}\")\n",
    "    print(f\"Mean Squared Error (MSE): {mse:.2f}\")\n",
    "    print(f\"R² Score: {r2:.2f}\")"
   ],
   "id": "da5143c3118754bd",
   "outputs": [],
   "execution_count": null
  },
  {
   "metadata": {},
   "cell_type": "markdown",
   "source": "### 5. Predict and Visualize Participation",
   "id": "cd39c1ceb02d337d"
  },
  {
   "metadata": {},
   "cell_type": "code",
   "source": [
    "def predict_and_visualize_participation(model, X, y, feature_name):\n",
    "    \"\"\"\n",
    "    Predict participation level based on user-provided caffeine intake and plot the result.\n",
    "    \"\"\"\n",
    "    while True:\n",
    "        try:\n",
    "            # Input caffeine intake\n",
    "            caffeine = float(input(\"\\nEnter caffeine intake (mg) to predict participation level: \"))\n",
    "            # Ensure valid feature names in input\n",
    "            input_data = pd.DataFrame({feature_name: [caffeine]})\n",
    "            predicted = model.predict(input_data)[0]\n",
    "            print(f\"Predicted participation level: {predicted:.2f}\")\n",
    "\n",
    "            # Plot the regression line, training data, and the user's input\n",
    "            plt.figure(figsize=(10, 6))\n",
    "            sns.scatterplot(x=X['Caffeine Intake (mg)'], y=y, color='blue', label='Training Data')\n",
    "            plt.plot(X, model.predict(X), color='green', label='Regression Line')\n",
    "            sns.scatterplot(x=[caffeine], y=[predicted], color='orange', s=100, label=f'User Input ({caffeine}, {predicted:.2f})')\n",
    "            plt.xlabel('Caffeine Intake (mg)')\n",
    "            plt.ylabel('Participation per lesson')\n",
    "            plt.title('Linear Regression: Caffeine Intake vs. Participation')\n",
    "            plt.legend()\n",
    "            plt.xlim(0, X['Caffeine Intake (mg)'].max() + 50)\n",
    "            plt.ylim(0, y.max() + 1)\n",
    "            plt.show()  # Ensure the graph displays\n",
    "        except KeyboardInterrupt:\n",
    "            print(\"\\nExiting the prediction tool.\")\n",
    "            break\n",
    "        except ValueError:\n",
    "            print(\"Invalid input. Please enter a numeric value.\")"
   ],
   "id": "60af63eb3774ab69",
   "outputs": [],
   "execution_count": null
  },
  {
   "metadata": {},
   "cell_type": "markdown",
   "source": "### Main Program",
   "id": "ab7194f5da46a893"
  },
  {
   "metadata": {},
   "cell_type": "code",
   "source": [
    "def main():\n",
    "    # Prepare data\n",
    "    df = prepare_data()\n",
    "    X = df[['Caffeine Intake (mg)']]  # Features\n",
    "    y = df['Participation']  # Target\n",
    "\n",
    "    # Train linear regression model\n",
    "    model = train_model(X, y)\n",
    "\n",
    "    # Visualize regression line\n",
    "    plot_regression_line(X, y, model)\n",
    "\n",
    "    # Display metrics\n",
    "    display_model_metrics(X, y, model)\n",
    "\n",
    "    # Predict participation and visualize input\n",
    "    predict_and_visualize_participation(model, X, y, feature_name='Caffeine Intake (mg)')\n",
    "\n",
    "if __name__ == \"__main__\":\n",
    "    main()"
   ],
   "id": "3fc46849434b1f92",
   "outputs": [],
   "execution_count": null
  }
 ],
 "metadata": {
  "kernelspec": {
   "display_name": "Python 3",
   "language": "python",
   "name": "python3"
  },
  "language_info": {
   "codemirror_mode": {
    "name": "ipython",
    "version": 2
   },
   "file_extension": ".py",
   "mimetype": "text/x-python",
   "name": "python",
   "nbconvert_exporter": "python",
   "pygments_lexer": "ipython2",
   "version": "2.7.6"
  }
 },
 "nbformat": 4,
 "nbformat_minor": 5
}
